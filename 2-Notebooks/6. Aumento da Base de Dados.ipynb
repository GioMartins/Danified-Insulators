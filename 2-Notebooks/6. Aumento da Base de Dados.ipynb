{
 "cells": [
  {
   "cell_type": "markdown",
   "id": "b4af9d0a-5199-4d12-8020-01b706a25416",
   "metadata": {},
   "source": [
    "# 6. Aumento da base de dados"
   ]
  },
  {
   "cell_type": "markdown",
   "id": "e6e3f4f4-d764-4298-a539-5c309946f51d",
   "metadata": {},
   "source": [
    "Como observado no notebook 5, foi observado que o balanceamento das classes se provou muito importante na melhoria do acerto das classes de discos danificados. Contudo, apesar da melhoria, a dimuição considerável de discos sem danos nas etapas de treinamento e teste provocou um impacto substancial na precisão da classificação. Diante disso, será feita uma expansão das bases amostrais de treinamento e testes das classes de discos danificados por quebra ou dano por arco elétrico."
   ]
  },
  {
   "cell_type": "markdown",
   "id": "7fe344be-6449-4e51-ba3e-d78338e00a44",
   "metadata": {},
   "source": [
    "Assim, serão geradas novas imagens a partir daquelas presentes por meio de duas técnicas de filtragem que exedcutam o realce de bordas. As técnicas utilizadas são o **Filtro de Sobel** e o **Filtro de Laplaciano da Gaussiana**."
   ]
  },
  {
   "cell_type": "code",
   "execution_count": 1,
   "id": "8cf6b827-1017-43ff-84a5-49c4e8e649fd",
   "metadata": {},
   "outputs": [],
   "source": [
    "# Caminhos\n",
    "caminho_base_treinamento = \"/home/giovanni/Projetos/Local/TCC/Datasets/Recortes_Subamostrados_Balanceados/Treinamento\"\n",
    "caminho_base_teste = \"/home/giovanni/Projetos/Local/TCC/Datasets/Recortes_Subamostrados_Balanceados/Teste\"\n",
    "rotulos_treinamento = \"/home/giovanni/Projetos/Local/TCC/Datasets/Recortes_Subamostrados_Balanceados/rotulos_regioes_treinamento.json\"\n",
    "rotulos_teste = \"/home/giovanni/Projetos/Local/TCC/Datasets/Recortes_Subamostrados_Balanceados/rotulos_regioes_teste.json\"\n",
    "rotulos_treinamento_finais = \"/home/giovanni/Projetos/Local/TCC/Datasets/Recortes_Subamostrados_Balanceados/rotulos_regioes_treinamento_finais.json\"\n",
    "rotulos_teste_finais = \"/home/giovanni/Projetos/Local/TCC/Datasets/Recortes_Subamostrados_Balanceados/rotulos_regioes_teste_finais.json\""
   ]
  },
  {
   "cell_type": "code",
   "execution_count": 2,
   "id": "6da5e285-7cc0-45a3-8930-b9ba1ec632cc",
   "metadata": {},
   "outputs": [],
   "source": [
    "# Importação de bibliotecas\n",
    "import os\n",
    "import cv2\n",
    "import json\n",
    "import matplotlib.pyplot as plt\n",
    "from tqdm import tqdm"
   ]
  },
  {
   "cell_type": "code",
   "execution_count": 3,
   "id": "a54dd49d-2127-4823-8cbd-27625957a9e9",
   "metadata": {},
   "outputs": [],
   "source": [
    "# Função para aplicar o filtro Sobel em uma imagem\n",
    "def apply_sobel(image):\n",
    "    # Verificar se a imagem foi carregada corretamente\n",
    "    if image is None or image.size == 0:\n",
    "        print(\"Erro: Não foi possível carregar a imagem\")\n",
    "        return None\n",
    "    \n",
    "    try:\n",
    "        gray = cv2.cvtColor(image, cv2.COLOR_BGR2GRAY)\n",
    "        sobel_x = cv2.Sobel(gray, cv2.CV_64F, 1, 0, ksize=3)\n",
    "        sobel_y = cv2.Sobel(gray, cv2.CV_64F, 0, 1, ksize=3)\n",
    "        sobel = cv2.magnitude(sobel_x, sobel_y)\n",
    "        sobel = cv2.normalize(sobel, None, 0, 255, cv2.NORM_MINMAX, cv2.CV_8U)\n",
    "        return sobel\n",
    "    except Exception as e:\n",
    "        print(\"Erro ao aplicar o filtro Sobel:\", e)\n",
    "        return None\n",
    "\n",
    "# Função para aplicar o filtro Laplaciano da Gaussiana em uma imagem\n",
    "def apply_laplacian_of_gaussian(image):\n",
    "    # Verificar se a imagem foi carregada corretamente\n",
    "    if image is None or image.size == 0:\n",
    "        print(\"Erro: Não foi possível carregar a imagem\")\n",
    "        return None\n",
    "    \n",
    "    try:\n",
    "        gray = cv2.cvtColor(image, cv2.COLOR_BGR2GRAY)\n",
    "        blurred = cv2.GaussianBlur(gray, (5, 5), 0)\n",
    "        laplacian = cv2.Laplacian(blurred, cv2.CV_64F)\n",
    "        laplacian = cv2.normalize(laplacian, None, 0, 255, cv2.NORM_MINMAX, cv2.CV_8U)\n",
    "        return laplacian\n",
    "    except Exception as e:\n",
    "        print(\"Erro ao aplicar o filtro Sobel:\", e)\n",
    "        return None"
   ]
  },
  {
   "cell_type": "markdown",
   "id": "1260bf8d-989d-4086-9c1b-2a696acbdf73",
   "metadata": {},
   "source": [
    "## 6.1. Ampliação do conjunto de treinamento"
   ]
  },
  {
   "cell_type": "code",
   "execution_count": 4,
   "id": "c6461915-1f6d-4f82-b764-291b103422c9",
   "metadata": {},
   "outputs": [],
   "source": [
    "# Carregamento dos arquivos de rotulação\n",
    "with open(rotulos_treinamento, \"r\") as f:\n",
    "    rotulos = json.load(f)\n",
    "\n",
    "# Lista para armazenamento de rotulos\n",
    "rotulos_treinamento_atualizados = []"
   ]
  },
  {
   "cell_type": "code",
   "execution_count": 5,
   "id": "6893732b-339f-4d96-b959-2a02377f808c",
   "metadata": {},
   "outputs": [
    {
     "name": "stderr",
     "output_type": "stream",
     "text": [
      "Processando imagens: 100%|██████████████| 13759/13759 [00:03<00:00, 4246.24it/s]\n"
     ]
    }
   ],
   "source": [
    "# Loop sobre as imagens e rótulos\n",
    "for item in tqdm(rotulos, desc=\"Processando imagens\"):\n",
    "    nome_imagem = item[\"nome\"]\n",
    "    classificacao = item[\"classificacao\"]\n",
    "    caminho_imagem = os.path.join(caminho_base_treinamento, nome_imagem)\n",
    "    imagem = cv2.imread(caminho_imagem)\n",
    "    \n",
    "    # Verificar se a imagem precisa de geração de novas imagens\n",
    "    if classificacao in [\"Broken\", \"Flashover damage\"]:\n",
    "        rotulos_treinamento_atualizados.append(item)\n",
    "        \n",
    "        # Sobel\n",
    "        imagem_sobel = apply_sobel(imagem)\n",
    "        caminho_sobel = os.path.join(caminho_base_treinamento, f\"Sobel_{nome_imagem}\")\n",
    "        cv2.imwrite(caminho_sobel, imagem_sobel)\n",
    "        # Laplaciano da Gaussiana\n",
    "        imagem_laplaciano = apply_laplacian_of_gaussian(imagem)\n",
    "        caminho_laplaciano = os.path.join(caminho_base_treinamento, f\"Laplacian_{nome_imagem}\")\n",
    "        cv2.imwrite(caminho_laplaciano, imagem_laplaciano)\n",
    "        \n",
    "        # Atualizar os rótulos para incluir as novas imagens\n",
    "        item_sobel = {\"nome\": f\"Sobel_{nome_imagem}\", \"classificacao\": classificacao}\n",
    "        item_laplaciano = {\"nome\": f\"Laplacian_{nome_imagem}\", \"classificacao\": classificacao}\n",
    "        rotulos_treinamento_atualizados.append(item_sobel)\n",
    "        rotulos_treinamento_atualizados.append(item_laplaciano)\n",
    "        \n",
    "    else:\n",
    "        # Se a imagem não precisar de processamento, apenas adicionamos o rótulo original\n",
    "        rotulos_treinamento_atualizados.append(item)"
   ]
  },
  {
   "cell_type": "code",
   "execution_count": 6,
   "id": "c37eb05c-6bd6-4c9d-a78a-eebe2577fdb3",
   "metadata": {},
   "outputs": [],
   "source": [
    "# Salvar os rótulos atualizados em um novo arquivo\n",
    "with open(rotulos_treinamento_finais, \"w\") as f:\n",
    "    json.dump(rotulos_treinamento_atualizados, f, indent=4)"
   ]
  },
  {
   "cell_type": "markdown",
   "id": "392f61cc-649b-47bd-a952-d979df870abc",
   "metadata": {},
   "source": [
    "### 6.1.1. Visualização do balanceamento"
   ]
  },
  {
   "cell_type": "code",
   "execution_count": 7,
   "id": "a4805d60-be75-4005-9422-485fdd5f140f",
   "metadata": {},
   "outputs": [],
   "source": [
    "# Lista para armazenar as classificações\n",
    "classificacoes_treinamento = []\n",
    "\n",
    "# Contagem das classificações\n",
    "with open(rotulos_treinamento_finais, \"r\") as f:\n",
    "    rotulos = json.load(f)\n",
    "    for item in rotulos:\n",
    "        classificacao = item[\"classificacao\"]\n",
    "        classificacoes_treinamento.append(classificacao)\n",
    "\n",
    "# Contagem das ocorrências de cada classificação\n",
    "contagem_no_issues = classificacoes_treinamento.count(\"No issues\")\n",
    "contagem_broken = classificacoes_treinamento.count(\"Broken\")\n",
    "contagem_flashover_damage = classificacoes_treinamento.count(\"Flashover damage\")"
   ]
  },
  {
   "cell_type": "code",
   "execution_count": 8,
   "id": "dce59d90-79fd-42da-9655-957774c921db",
   "metadata": {},
   "outputs": [],
   "source": [
    "# Lista com os valores das contagens\n",
    "contagens_treinamento = [contagem_no_issues, contagem_broken, contagem_flashover_damage]"
   ]
  },
  {
   "cell_type": "code",
   "execution_count": 9,
   "id": "b9a00a4d-b2df-4ee4-91ef-a0cfbe7952ba",
   "metadata": {},
   "outputs": [
    {
     "data": {
      "text/plain": [
       "[10783, 2808, 6120]"
      ]
     },
     "execution_count": 9,
     "metadata": {},
     "output_type": "execute_result"
    }
   ],
   "source": [
    "contagens_treinamento"
   ]
  },
  {
   "cell_type": "code",
   "execution_count": 10,
   "id": "6f4aea4c-6195-4f22-acc3-f87080bb6b5c",
   "metadata": {},
   "outputs": [],
   "source": [
    "# Lista de rótulos para as fatias do gráfico de pizza\n",
    "categorias = [\"No issues\", \"Broken\", \"Flashover damage\"]"
   ]
  },
  {
   "cell_type": "code",
   "execution_count": 11,
   "id": "1fac51dc-7340-4904-b222-a83a87a7e450",
   "metadata": {},
   "outputs": [
    {
     "data": {
      "image/png": "[encoded data removed]",
      "text/plain": [
       "<Figure size 300x300 with 1 Axes>"
      ]
     },
     "metadata": {},
     "output_type": "display_data"
    }
   ],
   "source": [
    "# Plotagem do gráfico de pizza\n",
    "plt.figure(figsize=(3, 3))\n",
    "plt.pie(contagens_treinamento, labels=categorias, autopct=\"%1.1f%%\", startangle=140)\n",
    "plt.title(\"Distribuição de Classes Finais - Treinamento\")\n",
    "plt.axis(\"equal\")  # Garante que o gráfico seja desenhado como um círculo\n",
    "plt.show()"
   ]
  },
  {
   "cell_type": "markdown",
   "id": "fb44aa74-dbff-4e5e-aff0-ce2dfaefab18",
   "metadata": {},
   "source": [
    "## 6.2. Ampliação do conjunto de teste"
   ]
  },
  {
   "cell_type": "code",
   "execution_count": 12,
   "id": "df2b567d-335a-4aa0-834f-33ea77fbf1f7",
   "metadata": {},
   "outputs": [],
   "source": [
    "# Carregamento dos arquivos de rotulação\n",
    "with open(rotulos_teste, \"r\") as f:\n",
    "    rotulos = json.load(f)\n",
    "\n",
    "# Lista para armazenamento de rotulos\n",
    "rotulos_teste_atualizados = []"
   ]
  },
  {
   "cell_type": "code",
   "execution_count": 14,
   "id": "3ce1fabd-8426-4fb7-866f-8f424244b84d",
   "metadata": {},
   "outputs": [
    {
     "name": "stderr",
     "output_type": "stream",
     "text": [
      "Processando imagens: 100%|████████████████| 3297/3297 [00:00<00:00, 4174.14it/s]\n"
     ]
    }
   ],
   "source": [
    "# Loop sobre as imagens e rótulos\n",
    "for item in tqdm(rotulos, desc=\"Processando imagens\"):\n",
    "    nome_imagem = item[\"nome\"]\n",
    "    classificacao = item[\"classificacao\"]\n",
    "    caminho_imagem = os.path.join(caminho_base_teste, nome_imagem)\n",
    "    imagem = cv2.imread(caminho_imagem)\n",
    "    \n",
    "    # Verificar se a imagem precisa de geração de novas imagens\n",
    "    if classificacao in [\"Broken\", \"Flashover damage\"]:\n",
    "        rotulos_teste_atualizados.append(item)\n",
    "        # Sobel\n",
    "        imagem_sobel = apply_sobel(imagem)\n",
    "        caminho_sobel = os.path.join(caminho_base_teste, f\"Sobel_{nome_imagem}\")\n",
    "        cv2.imwrite(caminho_sobel, imagem_sobel)\n",
    "        # Laplaciano da Gaussiana\n",
    "        imagem_laplaciano = apply_laplacian_of_gaussian(imagem)\n",
    "        caminho_laplaciano = os.path.join(caminho_base_teste, f\"Laplacian_{nome_imagem}\")\n",
    "        cv2.imwrite(caminho_laplaciano, imagem_laplaciano)\n",
    "        \n",
    "        # Atualizar os rótulos para incluir as novas imagens\n",
    "        item_sobel = {\"nome\": f\"Sobel_{nome_imagem}\", \"classificacao\": classificacao}\n",
    "        item_laplaciano = {\"nome\": f\"Laplacian_{nome_imagem}\", \"classificacao\": classificacao}\n",
    "        rotulos_teste_atualizados.append(item_sobel)\n",
    "        rotulos_teste_atualizados.append(item_laplaciano)\n",
    "        \n",
    "    else:\n",
    "        # Se a imagem não precisar de processamento, apenas adicionamos o rótulo original\n",
    "        rotulos_teste_atualizados.append(item)"
   ]
  },
  {
   "cell_type": "code",
   "execution_count": 15,
   "id": "a8bc85c6-ac4a-4a9d-a4f6-d1e7fe51b100",
   "metadata": {},
   "outputs": [],
   "source": [
    "# Salvar os rótulos atualizados em um novo arquivo\n",
    "with open(rotulos_teste_finais, \"w\") as f:\n",
    "    json.dump(rotulos_teste_atualizados, f, indent=4)"
   ]
  },
  {
   "cell_type": "markdown",
   "id": "2cea9aaf-226d-40bd-b5e9-d13ba52211ab",
   "metadata": {},
   "source": [
    "### 6.2.1. Visualização do balanceamento"
   ]
  },
  {
   "cell_type": "code",
   "execution_count": 16,
   "id": "969231ba-04d2-497f-9f4c-9b165c544e5d",
   "metadata": {},
   "outputs": [],
   "source": [
    "# Lista para armazenar as classificações\n",
    "classificacoes_teste = []\n",
    "\n",
    "# Contagem das classificações\n",
    "with open(rotulos_teste_finais, \"r\") as f:\n",
    "    rotulos = json.load(f)\n",
    "    for item in rotulos:\n",
    "        classificacao = item[\"classificacao\"]\n",
    "        classificacoes_teste.append(classificacao)\n",
    "\n",
    "# Contagem das ocorrências de cada classificação\n",
    "contagem_no_issues = classificacoes_teste.count(\"No issues\")\n",
    "contagem_broken = classificacoes_teste.count(\"Broken\")\n",
    "contagem_flashover_damage = classificacoes_teste.count(\"Flashover damage\")"
   ]
  },
  {
   "cell_type": "code",
   "execution_count": 17,
   "id": "17f6863f-e572-4b59-9f8f-4c78a101c4c9",
   "metadata": {},
   "outputs": [],
   "source": [
    "# Lista com os valores das contagens\n",
    "contagens_teste = [contagem_no_issues, contagem_broken, contagem_flashover_damage]"
   ]
  },
  {
   "cell_type": "code",
   "execution_count": 22,
   "id": "155096b1-1b04-4032-9ec0-de9e59f8cd6d",
   "metadata": {},
   "outputs": [
    {
     "data": {
      "text/plain": [
       "[2545, 717, 1539]"
      ]
     },
     "execution_count": 22,
     "metadata": {},
     "output_type": "execute_result"
    }
   ],
   "source": [
    "contagens_teste"
   ]
  },
  {
   "cell_type": "code",
   "execution_count": 18,
   "id": "6530954e-b122-4563-a942-496a9b45cec0",
   "metadata": {},
   "outputs": [],
   "source": [
    "# Lista de rótulos para as fatias do gráfico de pizza\n",
    "categorias = [\"No issues\", \"Broken\", \"Flashover damage\"]"
   ]
  },
  {
   "cell_type": "code",
   "execution_count": 21,
   "id": "a0025042-5ade-4e1f-9458-7e9cde91c059",
   "metadata": {},
   "outputs": [
    {
     "data": {
      "image/png": "[encoded data removed]",
      "text/plain": [
       "<Figure size 300x300 with 1 Axes>"
      ]
     },
     "metadata": {},
     "output_type": "display_data"
    }
   ],
   "source": [
    "# Plotagem do gráfico de pizza\n",
    "plt.figure(figsize=(3, 3))\n",
    "plt.pie(contagens_teste, labels=categorias, autopct=\"%1.1f%%\", startangle=140)\n",
    "plt.title(\"Distribuição de Classes Finais - Teste\")\n",
    "plt.axis(\"equal\")  # Garante que o gráfico seja desenhado como um círculo\n",
    "plt.show()"
   ]
  }
 ],
 "metadata": {
  "kernelspec": {
   "display_name": "Python 3 (ipykernel)",
   "language": "python",
   "name": "python3"
  },
  "language_info": {
   "codemirror_mode": {
    "name": "ipython",
    "version": 3
   },
   "file_extension": ".py",
   "mimetype": "text/x-python",
   "name": "python",
   "nbconvert_exporter": "python",
   "pygments_lexer": "ipython3",
   "version": "3.10.12"
  }
 },
 "nbformat": 4,
 "nbformat_minor": 5
}
