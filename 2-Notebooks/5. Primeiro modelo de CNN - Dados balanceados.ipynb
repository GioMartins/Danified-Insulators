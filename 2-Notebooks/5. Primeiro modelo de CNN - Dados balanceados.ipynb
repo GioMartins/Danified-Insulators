{
 "cells": [
  {
   "cell_type": "markdown",
   "id": "686776ab-46a3-4ed5-b21d-4db561363ebd",
   "metadata": {},
   "source": [
    "# 5. Repetição do treinamento e testes da primeira CNN"
   ]
  },
  {
   "cell_type": "markdown",
   "id": "0e6bd8ce-d46a-480d-ba2a-81cfcff02f16",
   "metadata": {},
   "source": [
    "Neste quinto notebook, será avaliado o impacto da alteração de distribuição de classes, feita no notebook 4, no primeiro modelo desenvolvido no notebook 3. Com isso, será esperada uma diminuição do viés na etapa de testes. Os resultados obtidos serão discutidos no final do notebook."
   ]
  },
  {
   "cell_type": "code",
   "execution_count": 1,
   "id": "ad2a9546-60a7-4eaa-9a37-2854c9722854",
   "metadata": {},
   "outputs": [],
   "source": [
    "# Importacao bibliotecas\n",
    "import torch\n",
    "import torch.nn as nn\n",
    "import torch.optim as optim\n",
    "from torch.utils.data import Dataset, DataLoader\n",
    "import torchvision.transforms as transforms\n",
    "import json\n",
    "import os\n",
    "from sklearn.metrics import accuracy_score, recall_score, f1_score, confusion_matrix\n",
    "import numpy as np\n",
    "import matplotlib.pyplot as plt\n",
    "from PIL import Image"
   ]
  },
  {
   "cell_type": "code",
   "execution_count": 2,
   "id": "ce14e563-7288-4eec-bf77-00e3ba925e6d",
   "metadata": {},
   "outputs": [],
   "source": [
    "# Caminho utilizados para acessar ou enviar arquivos\n",
    "\n",
    "caminho_imagens_treinamento = \"/home/giovanni/Projetos/Local/TCC/Datasets/Recortes_Subamostrados/Treinamento\"\n",
    "caminho_imagens_teste = \"/home/giovanni/Projetos/Local/TCC/Datasets/Recortes_Subamostrados/Teste\"\n",
    "caminho_rotulos_treinamento = \"/home/giovanni/Projetos/Local/TCC/Datasets/Recortes_Subamostrados/rotulos_balanceados_regioes_treinamento.json\"\n",
    "caminho_rotulos_teste = \"/home/giovanni/Projetos/Local/TCC/Datasets/Recortes_Subamostrados/rotulos_balanceados_regioes_teste.json\""
   ]
  },
  {
   "cell_type": "markdown",
   "id": "3477944a-8b34-4550-a1d3-f84cebe61aac",
   "metadata": {},
   "source": [
    "## 5.1. Definição de arquitetura"
   ]
  },
  {
   "cell_type": "code",
   "execution_count": 3,
   "id": "ae6538fa-ec74-4276-a2a9-745b6490cf76",
   "metadata": {},
   "outputs": [],
   "source": [
    "# Primeira arquitetura de CNN\n",
    "class CNN(nn.Module):\n",
    "    def __init__(self, num_classes=3):\n",
    "        super(CNN, self).__init__()\n",
    "        self.conv1 = nn.Conv2d(in_channels=3, out_channels=16, kernel_size=3, stride=1, padding=1)\n",
    "        self.conv2 = nn.Conv2d(16, 32, kernel_size=3, stride=1, padding=1)\n",
    "        self.conv3 = nn.Conv2d(32, 64, kernel_size=3, stride=1, padding=1)\n",
    "        self.pool = nn.MaxPool2d(kernel_size=2, stride=2, padding=0)\n",
    "        self.fc1 = nn.Linear(64 * 6 * 6, 512)  # Atualizado para acomodar entrada de 50x50\n",
    "        self.fc2 = nn.Linear(512, num_classes) # 3 classes de classificacao: No issues, Broken, Flashover damage\n",
    "\n",
    "    def forward(self, x):\n",
    "        x = self.pool(torch.relu(self.conv1(x)))\n",
    "        x = self.pool(torch.relu(self.conv2(x)))\n",
    "        x = self.pool(torch.relu(self.conv3(x)))\n",
    "        x = x.view(-1, 64 * 6 * 6)  # Acomodar entrada de 50x50\n",
    "        x = torch.relu(self.fc1(x))\n",
    "        x = self.fc2(x)\n",
    "        return x"
   ]
  },
  {
   "cell_type": "code",
   "execution_count": 4,
   "id": "27231136-2bbf-4d6a-a4d5-09581bfb7580",
   "metadata": {},
   "outputs": [],
   "source": [
    "# Dataset personalizado\n",
    "class CustomDataset(Dataset):\n",
    "    def __init__(self, data_path, image_path, transform=None):\n",
    "        self.data = json.load(open(data_path))\n",
    "        self.image_path = image_path\n",
    "        self.transform = transform\n",
    "\n",
    "    def __len__(self):\n",
    "        return len(self.data)\n",
    "\n",
    "    def __getitem__(self, idx):\n",
    "        img_name = self.data[idx]['nome']\n",
    "        img_class = self.data[idx]['classificacao']\n",
    "        path = os.path.join(self.image_path, img_name)\n",
    "        \n",
    "        try:\n",
    "            img = Image.open(path).convert('RGB')\n",
    "            img = img.resize((50, 50))  # Redimensiona para 50x50\n",
    "        except FileNotFoundError:\n",
    "            print(f'Arquivo de imagem não encontrado: {path}. Pulando esta imagem.')\n",
    "            # Retornar uma imagem vazia e um rótulo inválido\n",
    "            return torch.zeros(3, 50, 50), -1\n",
    "        \n",
    "        if self.transform:\n",
    "            img = self.transform(img)\n",
    "        \n",
    "        # Converter o rótulo para um índice numérico\n",
    "        class_to_index = {\"No issues\": 0, \"Flashover damage\": 1, \"Broken\": 2}\n",
    "        if img_class in class_to_index:\n",
    "            img_class = class_to_index[img_class]\n",
    "        else:\n",
    "            img_class = -1  # Definir como um rótulo inválido\n",
    "        \n",
    "        return img, img_class"
   ]
  },
  {
   "cell_type": "markdown",
   "id": "bccd8aae-852e-48b8-8c91-dadcc89dcdac",
   "metadata": {},
   "source": [
    "## 5.2. Avaliação do Modelo"
   ]
  },
  {
   "cell_type": "code",
   "execution_count": 5,
   "id": "6244bb84-8135-41e8-9a24-0288eeefe0d8",
   "metadata": {},
   "outputs": [],
   "source": [
    "# Funcao para calcular a acurácia, recall, F1-score e matriz de confusão\n",
    "def evaluate_model(model, test_loader):\n",
    "    model.eval()\n",
    "    y_true = []\n",
    "    y_pred = []\n",
    "\n",
    "    with torch.no_grad():\n",
    "        for inputs, labels in test_loader:\n",
    "            inputs = inputs.to(device)\n",
    "            \n",
    "            if isinstance(labels, tuple):\n",
    "                # Verificar se o rótulo é uma tupla vazia (indicando que é inválido)\n",
    "                if len(labels) == 0:\n",
    "                    continue  # Pular esta iteração se o rótulo for inválido\n",
    "                labels = labels[0]  # Extrair o rótulo válido da tupla\n",
    "            \n",
    "            labels = labels.to(device)\n",
    "            outputs = model(inputs)\n",
    "            _, predicted = torch.max(outputs, 1)\n",
    "            y_true.extend(labels.cpu().numpy())\n",
    "            y_pred.extend(predicted.cpu().numpy())\n",
    "\n",
    "    accuracy = accuracy_score(y_true, y_pred)\n",
    "    recall = recall_score(y_true, y_pred, average='weighted')\n",
    "    f1 = f1_score(y_true, y_pred, average='weighted')\n",
    "    cm = confusion_matrix(y_true, y_pred)\n",
    "    return accuracy, recall, f1, cm"
   ]
  },
  {
   "cell_type": "markdown",
   "id": "3fd18164-9106-4d74-bf39-3db4c424377a",
   "metadata": {},
   "source": [
    "## 5.3. Plot dos Resultados"
   ]
  },
  {
   "cell_type": "code",
   "execution_count": 6,
   "id": "73bf1cb5-5f0f-4815-bd73-84b55e800437",
   "metadata": {},
   "outputs": [],
   "source": [
    "# Função para plotar a função de perda durante o treinamento\n",
    "def plot_loss(loss_values):\n",
    "    plt.plot(loss_values, label='Training Loss')\n",
    "    plt.xlabel('Epochs')\n",
    "    plt.ylabel('Loss')\n",
    "    plt.title('Training Loss')\n",
    "    plt.legend()\n",
    "    plt.show()\n",
    "\n",
    "# Função para plotar a matriz de confusão\n",
    "def plot_confusion_matrix(cm, classes):\n",
    "    plt.imshow(cm, interpolation='nearest', cmap=plt.cm.Blues)\n",
    "    plt.title('Confusion Matrix')\n",
    "    tick_marks = np.arange(len(classes))\n",
    "    plt.xticks(tick_marks, classes, rotation=45)\n",
    "    plt.yticks(tick_marks, classes)\n",
    "\n",
    "    thresh = cm.max() / 2.\n",
    "    for i in range(cm.shape[0]):\n",
    "        for j in range(cm.shape[1]):\n",
    "            plt.text(j, i, format(cm[i, j], 'd'),\n",
    "                     horizontalalignment=\"center\",\n",
    "                     color=\"white\" if cm[i, j] > thresh else \"black\")\n",
    "\n",
    "    plt.tight_layout()\n",
    "    plt.ylabel('True label')\n",
    "    plt.xlabel('Predicted label')"
   ]
  },
  {
   "cell_type": "markdown",
   "id": "f79bd5ad-c764-402b-a5ae-5e184a049077",
   "metadata": {},
   "source": [
    "## 5.4. Carregamento das bases de teste e treinamento"
   ]
  },
  {
   "cell_type": "code",
   "execution_count": 7,
   "id": "9b253775-38a3-4f90-b00a-c43e7551e106",
   "metadata": {},
   "outputs": [],
   "source": [
    "# Carregar dados de treinamento e teste\n",
    "train_data = CustomDataset(caminho_rotulos_treinamento, caminho_imagens_treinamento, transform=transforms.ToTensor())\n",
    "test_data = CustomDataset(caminho_rotulos_teste, caminho_imagens_teste, transform=transforms.ToTensor())"
   ]
  },
  {
   "cell_type": "code",
   "execution_count": 8,
   "id": "a099f4da-99f1-4328-84a1-8c8a0b4783de",
   "metadata": {},
   "outputs": [],
   "source": [
    "# Definição de hiperparâmetros\n",
    "batch_size = 16\n",
    "learning_rate = 0.001\n",
    "num_epochs = 10\n",
    "\n",
    "# DataLoader\n",
    "train_loader = DataLoader(train_data, batch_size=batch_size, shuffle=True)\n",
    "test_loader = DataLoader(test_data, batch_size=batch_size, shuffle=False)\n",
    "\n",
    "# Verificar se a GPU está disponível\n",
    "device = torch.device('cuda' if torch.cuda.is_available() else 'cpu')\n",
    "# Instanciar o modelo e mover para GPU, se disponível\n",
    "model = CNN().to(device)\n",
    "\n",
    "# Função de perda e otimizador\n",
    "criterion = nn.CrossEntropyLoss()\n",
    "optimizer = optim.Adam(model.parameters(), lr=learning_rate)\n",
    "\n",
    "# Lista para armazenar os valores da função de perda durante o treinamento\n",
    "loss_values = []\n",
    "\n",
    "# Mapear classes de string para índices numéricos\n",
    "class_to_index = {\"No issues\": 0, \"Flashover damage\": 1, \"Broken\": 2}"
   ]
  },
  {
   "cell_type": "markdown",
   "id": "bfed23d3-41ff-44e9-9704-472eb60eb310",
   "metadata": {},
   "source": [
    "## 5.5. Treinamento do modelo"
   ]
  },
  {
   "cell_type": "code",
   "execution_count": 9,
   "id": "e0fa6a4f-89a8-4dda-9ee0-93ecda78e590",
   "metadata": {},
   "outputs": [
    {
     "name": "stdout",
     "output_type": "stream",
     "text": [
      "Epoch [1/10], Loss: 0.9127443659044531\n",
      "Epoch [2/10], Loss: 0.8361603389256191\n",
      "Epoch [3/10], Loss: 0.7909928911938865\n",
      "Epoch [4/10], Loss: 0.724586484713566\n",
      "Epoch [5/10], Loss: 0.6498561222332817\n",
      "Epoch [6/10], Loss: 0.5735965168461602\n",
      "Epoch [7/10], Loss: 0.498356125850022\n",
      "Epoch [8/10], Loss: 0.4211408589986989\n",
      "Epoch [9/10], Loss: 0.33904013585145165\n",
      "Epoch [10/10], Loss: 0.2880451299449533\n"
     ]
    }
   ],
   "source": [
    "# Treinamento do modelo\n",
    "for epoch in range(num_epochs):\n",
    "    model.train()\n",
    "    running_loss = 0.0\n",
    "    for images, labels in train_loader:\n",
    "        images = images.to(device)\n",
    "        optimizer.zero_grad()\n",
    "        outputs = model(images)\n",
    "        loss = criterion(outputs, labels)\n",
    "        loss.backward()\n",
    "        optimizer.step()\n",
    "        running_loss += loss.item()\n",
    "    avg_loss = running_loss / len(train_loader)\n",
    "    loss_values.append(avg_loss)\n",
    "    print(f'Epoch [{epoch+1}/{num_epochs}], Loss: {avg_loss}')"
   ]
  },
  {
   "cell_type": "code",
   "execution_count": 10,
   "id": "7be2e877-d869-497f-925a-97a26d72fcbe",
   "metadata": {},
   "outputs": [
    {
     "data": {
      "image/png": "[encoded data removed]",
      "text/plain": [
       "<Figure size 640x480 with 1 Axes>"
      ]
     },
     "metadata": {},
     "output_type": "display_data"
    }
   ],
   "source": [
    "# Plotar a função de perda durante o treinamento\n",
    "plot_loss(loss_values)"
   ]
  },
  {
   "cell_type": "markdown",
   "id": "9453a5af-e3af-41fe-8bd2-6d97841c0ad8",
   "metadata": {},
   "source": [
    "## 5.6. Avaliação do modelo"
   ]
  },
  {
   "cell_type": "markdown",
   "id": "f55266f7-daf1-4b16-abfe-f1e57fddce43",
   "metadata": {},
   "source": [
    "1. Precisão: **69,43 %**\n",
    "2. Recall: **69,43 %**\n",
    "3. F1-score: **69,37 %**"
   ]
  },
  {
   "cell_type": "code",
   "execution_count": 11,
   "id": "35f5f4f4-1ac1-4256-aef4-831c3b9033bd",
   "metadata": {},
   "outputs": [
    {
     "name": "stdout",
     "output_type": "stream",
     "text": [
      "Accuracy: 0.694375\n",
      "Recall: 0.694375\n",
      "F1-score: 0.6937290969532891\n",
      "Confusion Matrix:\n",
      "[[631 152  65]\n",
      " [182 314  17]\n",
      " [ 49  24 166]]\n"
     ]
    }
   ],
   "source": [
    "# Avaliação do modelo\n",
    "accuracy, recall, f1, cm = evaluate_model(model, test_loader)\n",
    "print(f'Accuracy: {accuracy}')\n",
    "print(f'Recall: {recall}')\n",
    "print(f'F1-score: {f1}')\n",
    "print('Confusion Matrix:')\n",
    "print(cm)"
   ]
  },
  {
   "cell_type": "code",
   "execution_count": 12,
   "id": "d4283e46-9276-41d8-8fa9-f19c4775c6b4",
   "metadata": {},
   "outputs": [
    {
     "data": {
      "image/png": "[encoded data removed]",
      "text/plain": [
       "<Figure size 640x480 with 1 Axes>"
      ]
     },
     "metadata": {},
     "output_type": "display_data"
    }
   ],
   "source": [
    "# Plotar a matriz de confusão\n",
    "plot_confusion_matrix(cm, classes=['No issues', 'Flashover damage', 'Broken'])"
   ]
  },
  {
   "cell_type": "markdown",
   "id": "e3437285-a0f4-48a1-a7fe-af605df08178",
   "metadata": {},
   "source": [
    "### Distribuição de classes do conjunto de teste\n",
    "\n",
    "* No issues: 848 amostras\n",
    "* Flashover damage: 513 amostras\n",
    "* Broken: 239 amostras\n",
    "\n",
    "### Precisão de acerto de classificação sobre cada classe\n",
    "* No issues: 631 acertos / 848 amostras = **74,4% de acerto**\n",
    "* Flashover damage: 314 acertos / 513 amostras = **61,2% de acerto**\n",
    "* Broken: 166 acertos / 239 amostras = **69,4% de acerto**\n",
    "\n",
    "### Conclusões a respeito da segunda tentativa:\n",
    "* Após a diminuição da classe dominante de discos intactos, foi observado uma melhoria **muito significativa** no acerto das classes de discos quebrados, sobretudo de **Flashover damage**.\n",
    "* Após solucionarmos a questão do viés no treinamento e teste da rede, será feito agora um aumento na distribuição das classes de discos quebrados."
   ]
  }
 ],
 "metadata": {
  "kernelspec": {
   "display_name": "Python 3 (ipykernel)",
   "language": "python",
   "name": "python3"
  },
  "language_info": {
   "codemirror_mode": {
    "name": "ipython",
    "version": 3
   },
   "file_extension": ".py",
   "mimetype": "text/x-python",
   "name": "python",
   "nbconvert_exporter": "python",
   "pygments_lexer": "ipython3",
   "version": "3.10.12"
  }
 },
 "nbformat": 4,
 "nbformat_minor": 5
}
